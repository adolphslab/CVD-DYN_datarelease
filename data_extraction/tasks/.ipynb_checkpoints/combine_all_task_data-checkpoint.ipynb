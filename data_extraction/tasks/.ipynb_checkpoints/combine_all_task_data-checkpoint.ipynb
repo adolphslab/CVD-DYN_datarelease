{
 "cells": [
  {
   "cell_type": "code",
   "execution_count": 1,
   "metadata": {},
   "outputs": [],
   "source": [
    "import pandas as pd\n",
    "import os\n",
    "from preproc_extractRawTasks import *\n"
   ]
  },
  {
   "cell_type": "code",
   "execution_count": 2,
   "metadata": {},
   "outputs": [],
   "source": [
    "# in and out paths \n",
    "parent_dir = os.path.abspath(os.path.join('..','..'))\n",
    "data_dir = os.path.join(parent_dir, 'data','raw')\n",
    "out_dir = os.path.join(parent_dir, 'data','pre_processed')\n",
    "\n",
    "wave_dir = ['Week1', 'Week2','Week3','Week4','Week5',\n",
    "              'Wave6', 'Wave7', 'Wave8', 'Wave9', 'Wave10', \n",
    "              'Wave11', 'Wave12','Wave13','Wave14', 'Wave15', 'Wave16', 'Wave17']\n",
    "waves = list(range(1,18))\n",
    "\n",
    "C_wave_dir = ['WeekA', 'WaveB', 'WaveC', 'WaveD', 'WaveE', 'WaveF', 'WaveG', 'WaveH', 'WaveI', 'WaveJ', 'WaveK', 'WaveL', 'WaveM', 'WaveN']\n",
    "C_waves = ['A', 'B', 'C', 'D', 'E','F', 'G', 'H', 'I', 'J', 'K', 'L', 'M', 'N']\n",
    "\n",
    "\n",
    "# anonymize data \n",
    "pid_to_cvdid = pd.read_csv(os.path.join(data_dir,'pid_to_cvdid.csv'))\n"
   ]
  },
  {
   "cell_type": "markdown",
   "metadata": {},
   "source": [
    "# pgg"
   ]
  },
  {
   "cell_type": "code",
   "execution_count": 3,
   "metadata": {},
   "outputs": [
    {
     "name": "stdout",
     "output_type": "stream",
     "text": [
      "/Users/tessarusch/Library/CloudStorage/Box-Box/COVID-19 Adolphs Lab/Data_Collection_Archive_Unedited/Week1_PRLFC/W1_tasks/cvd_pgg\n",
      "/Users/tessarusch/Library/CloudStorage/Box-Box/COVID-19 Adolphs Lab/Data_Collection_Archive_Unedited/Week2_PRLFC/W2_tasks/cvd_pgg\n",
      "/Users/tessarusch/Library/CloudStorage/Box-Box/COVID-19 Adolphs Lab/Data_Collection_Archive_Unedited/Week3_PRLFC/W3_tasks/cvd_pgg\n",
      "/Users/tessarusch/Library/CloudStorage/Box-Box/COVID-19 Adolphs Lab/Data_Collection_Archive_Unedited/Week4_PRLFC/W4_tasks/cvd_pgg\n",
      "/Users/tessarusch/Library/CloudStorage/Box-Box/COVID-19 Adolphs Lab/Data_Collection_Archive_Unedited/Week5_PRLFC/W5_tasks/cvd_pgg\n",
      "/Users/tessarusch/Library/CloudStorage/Box-Box/COVID-19 Adolphs Lab/Data_Collection_Archive_Unedited/Wave6_PRLFC/W6_tasks/cvd_pgg\n",
      "/Users/tessarusch/Library/CloudStorage/Box-Box/COVID-19 Adolphs Lab/Data_Collection_Archive_Unedited/Wave7_PRLFC/W7_tasks/cvd_pgg\n",
      "/Users/tessarusch/Library/CloudStorage/Box-Box/COVID-19 Adolphs Lab/Data_Collection_Archive_Unedited/Wave8_PRLFC/W8_tasks/cvd_pgg\n",
      "/Users/tessarusch/Library/CloudStorage/Box-Box/COVID-19 Adolphs Lab/Data_Collection_Archive_Unedited/Wave9_PRLFC/W9_tasks/cvd_pgg\n",
      "/Users/tessarusch/Library/CloudStorage/Box-Box/COVID-19 Adolphs Lab/Data_Collection_Archive_Unedited/Wave10_PRLFC/W10_tasks/cvd_pgg\n",
      "/Users/tessarusch/Library/CloudStorage/Box-Box/COVID-19 Adolphs Lab/Data_Collection_Archive_Unedited/Wave11_PRLFC/W11_tasks/cvd_pgg\n",
      "/Users/tessarusch/Library/CloudStorage/Box-Box/COVID-19 Adolphs Lab/Data_Collection_Archive_Unedited/Wave12_PRLFC/W12_tasks/cvd_pgg\n",
      "/Users/tessarusch/Library/CloudStorage/Box-Box/COVID-19 Adolphs Lab/Data_Collection_Archive_Unedited/Wave13_PRLFC/W13_tasks/cvd_pgg\n",
      "/Users/tessarusch/Library/CloudStorage/Box-Box/COVID-19 Adolphs Lab/Data_Collection_Archive_Unedited/Wave14_PRLFC/W14_tasks/cvd_pgg\n",
      "/Users/tessarusch/Library/CloudStorage/Box-Box/COVID-19 Adolphs Lab/Data_Collection_Archive_Unedited/Wave15_PRLFC/W15_tasks/cvd_pgg\n",
      "/Users/tessarusch/Library/CloudStorage/Box-Box/COVID-19 Adolphs Lab/Data_Collection_Archive_Unedited/Wave16_PRLFC/W16_tasks/cvd_pgg\n",
      "/Users/tessarusch/Library/CloudStorage/Box-Box/COVID-19 Adolphs Lab/Data_Collection_Archive_Unedited/Wave17_PRLFC/W17_tasks/cvd_pgg\n"
     ]
    }
   ],
   "source": [
    "pgg = pd.DataFrame()\n",
    "\n",
    "idx = 0\n",
    "for i_wave in waves:\n",
    "    task_dir = os.path.join(data_dir,wave_dir[idx]+ '_PRLFC/W'+ str(i_wave) + '_tasks','cvd_pgg')\n",
    "    print(task_dir)\n",
    "    pgg_tmp = process_cvd_pgg(task_dir, i_wave)\n",
    "    pgg = pd.concat([pgg,pgg_tmp])\n",
    "    idx += 1\n",
    "\n",
    "pgg.to_csv(out_dir + 'PGG_P.csv',index=False)\n",
    "pgg_CVDID = transform_pid_to_cvdid(pgg, 'pgg_subject_id', pid_to_cvdid)\n",
    "pgg_CVDID.to_csv(os.path.join(out_dir,'PGG_P_CVDID.csv'),index=False)    \n",
    "del pgg, pgg_CVDID   \n",
    "\n",
    "\n",
    "# # Conte\n",
    "pgg = pd.DataFrame()\n",
    "idx = 0\n",
    "for i_wave in C_waves:\n",
    "    task_dir = os.path.join(data_dir,C_wave_dir[idx]+ '_Conte/W'+ str(i_wave) + 'C_tasks','cvd_pgg')\n",
    "    pgg_tmp = process_cvd_pgg(task_dir, i_wave)\n",
    "    pgg = pd.concat([pgg,pgg_tmp])\n",
    "    idx += 1\n",
    "    \n",
    "pgg.to_csv(os.path.join(out_dir,'PGG_C.csv'),index=False)\n",
    "del pgg   \n"
   ]
  },
  {
   "cell_type": "markdown",
   "metadata": {},
   "source": [
    "# biat"
   ]
  },
  {
   "cell_type": "code",
   "execution_count": null,
   "metadata": {},
   "outputs": [],
   "source": [
    "# Prolific\n",
    "biat_raw = pd.DataFrame()\n",
    "biat_summary = pd.DataFrame()\n",
    "\n",
    "idx = 0\n",
    "for i_wave in waves:     \n",
    "    task_dir = os.path.join(data_dir,wave_dir[idx]+ '_PRLFC/W'+ str(i_wave) + '_tasks','biat')\n",
    "\n",
    "    biat_raw_tmp, biat_summary_tmp = process_biat(task_dir, i_wave)\n",
    "    biat_raw = pd.concat([biat_raw,biat_raw_tmp]).reset_index(drop = True)\n",
    "    biat_summary = pd.concat([biat_summary, biat_summary_tmp]).reset_index(drop = True)\n",
    "    idx += 1\n",
    "\n",
    "biat_raw.to_csv(os.path.join(out_dir + 'BIAT_raw_P.csv'),index=False)    \n",
    "biat_raw_CVDID = transform_pid_to_cvdid(biat_raw, 'biat_subject_id', pid_to_cvdid)\n",
    "biat_raw_CVDID.to_csv(os.path.join(out_dir,'BIAT_raw_P_CVDID.csv'),index=False)    \n",
    "\n",
    "biat_summary.to_csv(out_dir + 'BIAT_summary_P.csv',index=False)\n",
    "biat_summary_CVDID = transform_pid_to_cvdid(biat_summary, 'biat_subject_id', pid_to_cvdid)\n",
    "biat_summary_CVDID.to_csv(os.path.join(out_dir,'BIAT_summary_P_CVDID.csv'),index=False)    \n",
    "\n",
    "del biat_raw,biat_raw_CVDID, biat_summary, biat_summary_CVDID\n",
    "\n",
    "# # Conte\n",
    "biat_raw = pd.DataFrame()\n",
    "biat_summary = pd.DataFrame()\n",
    "\n",
    "idx = 0\n",
    "for i_wave in C_waves:\n",
    "    task_dir = os.path.join(data_dir,C_wave_dir[idx]+ '_Conte/W'+ str(i_wave) + 'C_tasks','biat')\n",
    "    \n",
    "    biat_raw_tmp, biat_summary_tmp = process_biat(task_dir, i_wave)\n",
    "    biat_raw = pd.concat([biat_raw,biat_raw_tmp]).reset_index(drop = True)\n",
    "    biat_summary = pd.concat([biat_summary, biat_summary_tmp]).reset_index(drop = True) \n",
    "    idx += 1\n",
    "    \n",
    "biat_raw.to_csv(os.path.join(out_dir,'BIAT_raw_C.csv'),index=False)    \n",
    "biat_summary.to_csv(os.path.join(out_dir,'BIAT_summary_C.csv'),index=False)\n",
    "del biat_raw, biat_summary"
   ]
  },
  {
   "cell_type": "markdown",
   "metadata": {},
   "source": [
    "# cvd_consp"
   ]
  },
  {
   "cell_type": "code",
   "execution_count": null,
   "metadata": {},
   "outputs": [],
   "source": [
    "# Prolific\n",
    "cvd_consp = pd.DataFrame()\n",
    "idx = 0\n",
    "for i_wave in waves:\n",
    "    task_dir = os.path.join(data_dir,wave_dir[idx]+ '_PRLFC/W'+ str(i_wave) + '_tasks','cvd_consp')\n",
    "\n",
    "    cvd_consp_tmp = process_cvd_consp(task_dir, i_wave)\n",
    "    cvd_consp = pd.concat([cvd_consp,cvd_consp_tmp])\n",
    "    idx += 1\n",
    "cvd_consp = cvd_consp.dropna(subset='cvd_consp_subject_id')\n",
    "cvd_consp = cvd_consp.loc[cvd_consp.cvd_consp_practice == False]    \n",
    "\n",
    "cvd_consp.to_csv(os.path.join(out_dir,'CONSP_P.csv'),index=False)\n",
    "cvd_consp_CVDID = transform_pid_to_cvdid(cvd_consp, 'cvd_consp_subject_id', pid_to_cvdid)\n",
    "cvd_consp_CVDID.to_csv(os.path.join(out_dir,'CONSP_P_CVDID.csv'),index=False)    \n",
    "# del cvd_consp, cvd_consp_CVDID   \n",
    "\n",
    "\n",
    "# Conte\n",
    "cvd_consp = pd.DataFrame()\n",
    "idx = 0\n",
    "for i_wave in C_waves:        \n",
    "    task_dir = os.path.join(data_dir,C_wave_dir[idx]+ '_Conte/W'+ str(i_wave) + 'C_tasks','cvd_consp')\n",
    "    \n",
    "    cvd_consp_tmp = process_cvd_consp(task_dir, i_wave)\n",
    "    cvd_consp = pd.concat([cvd_consp,cvd_consp_tmp])\n",
    "    idx += 1\n",
    "    \n",
    "cvd_consp.to_csv(os.path.join(out_dir,'CONSP_C.csv'),index=False)\n",
    "del cvd_consp   \n",
    "\n"
   ]
  },
  {
   "cell_type": "markdown",
   "metadata": {},
   "source": [
    "# pro-ait"
   ]
  },
  {
   "cell_type": "code",
   "execution_count": null,
   "metadata": {},
   "outputs": [],
   "source": [
    "# Prolific\n",
    "iat = pd.DataFrame()\n",
    "idx = 0\n",
    "for i_wave in waves:\n",
    "    task_dir = os.path.join(data_dir,wave_dir[idx]+ '_PRLFC/W'+ str(i_wave) + '_tasks','pro_iat')\n",
    "    \n",
    "    iat_tmp = process_pro_iat(task_dir, i_wave)\n",
    "    iat = iat.append(iat_tmp)\n",
    "    idx += 1\n",
    "    \n",
    "iat.to_csv(os.path.join(out_dir,'IAT_P.csv'),index=False)\n",
    "del iat\n",
    "\n",
    "# Conte\n",
    "iat = pd.DataFrame()\n",
    "idx = 0\n",
    "for i_wave in C_waves:\n",
    "    task_dir = os.path.join(data_dir,C_wave_dir[idx]+ '_Conte/W'+ str(i_wave) + 'C_tasks','pro_iat')\n",
    "    \n",
    "    iat_tmp = process_pro_iat(task_dir, i_wave)\n",
    "    iat = iat.append(iat_tmp)\n",
    "    idx += 1\n",
    "    \n",
    "iat.to_csv(os.path.join(out_dir,'IAT_C.csv'),index=False)\n",
    "del iat\n",
    "\n"
   ]
  },
  {
   "cell_type": "markdown",
   "metadata": {},
   "source": [
    "# cvd_amp"
   ]
  },
  {
   "cell_type": "code",
   "execution_count": null,
   "metadata": {},
   "outputs": [],
   "source": [
    "# Prolific\n",
    "amp = pd.DataFrame()\n",
    "idx = 0\n",
    "for i_wave in waves:    \n",
    "    task_dir = os.path.join(data_dir,wave_dir[idx]+ '_PRLFC/W'+ str(i_wave) + '_tasks','cvd_amp')\n",
    "    \n",
    "    amp_tmp = process_cvd_amp(task_dir, i_wave)\n",
    "    amp = amp.append(amp_tmp)\n",
    "    idx += 1\n",
    "    \n",
    "amp.to_csv(os.path.join(out_dir,'AMP_P.csv'),index=False)\n",
    "del amp\n",
    "\n",
    "# Conte\n",
    "amp = pd.DataFrame()\n",
    "idx = 0\n",
    "for i_wave in C_waves:\n",
    "    task_dir = os.path.join(data_dir,C_wave_dir[idx]+ '_Conte/W'+ str(i_wave) + 'C_tasks','cvd_amp')\n",
    "\n",
    "    amp_tmp = process_cvd_amp(task_dir, i_wave)\n",
    "    amp = amp.append(amp_tmp)\n",
    "    idx += 1\n",
    "    \n",
    "amp.to_csv(os.path.join(out_dir,'AMP_C.csv'),index=False)\n",
    "del amp\n",
    "\n",
    "\n",
    "\n"
   ]
  },
  {
   "cell_type": "markdown",
   "metadata": {},
   "source": [
    "# tr_1s"
   ]
  },
  {
   "cell_type": "code",
   "execution_count": null,
   "metadata": {},
   "outputs": [],
   "source": [
    "# Prolific\n",
    "tr_1s = pd.DataFrame()\n",
    "idx = 0\n",
    "for i_wave in waves:    \n",
    "    task_dir = os.path.join(data_dir,wave_dir[idx]+ '_PRLFC/W'+ str(i_wave) + '_tasks','tr_1s')\n",
    "    \n",
    "    tr_1s_tmp = process_tr_1s(task_dir, i_wave)\n",
    "    tr_1s = tr_1s.append(tr_1s_tmp)\n",
    "    idx += 1\n",
    "    \n",
    "tr_1s.to_csv(os.path.join(out_dir,'TR1_P.csv'),index=False)\n",
    "del tr_1s\n",
    "\n",
    "# Conte\n",
    "tr_1s = pd.DataFrame()\n",
    "idx = 0\n",
    "for i_wave in C_waves:\n",
    "    task_dir = os.path.join(data_dir,C_wave_dir[idx]+ '_Conte/W'+ str(i_wave) + 'C_tasks','tr_1s')\n",
    "    \n",
    "    tr_1s_tmp = process_tr_1s(task_dir, i_wave)\n",
    "    tr_1s = tr_1s.append(tr_1s_tmp)\n",
    "    idx += 1\n",
    "    \n",
    "tr_1s.to_csv(os.path.join(out_dir,'TR1_C.csv'),index=False)\n",
    "del tr_1s"
   ]
  },
  {
   "cell_type": "markdown",
   "metadata": {},
   "source": [
    "# cvd_altt"
   ]
  },
  {
   "cell_type": "code",
   "execution_count": null,
   "metadata": {},
   "outputs": [],
   "source": [
    "# Prolific\n",
    "cvd_altt = pd.DataFrame()\n",
    "idx = 0\n",
    "for i_wave in waves:\n",
    "    task_dir = os.path.join(data_dir,wave_dir[idx]+ '_PRLFC/W'+ str(i_wave) + '_tasks','cvd_altt')\n",
    "    \n",
    "    cvd_altt_tmp = process_cvd_altt(task_dir, i_wave)\n",
    "    cvd_altt = cvd_altt.append(cvd_altt_tmp)\n",
    "    idx += 1\n",
    "    \n",
    "cvd_altt.to_csv(os.path.join(out_dir,'ATT_P.csv'),index=False)\n",
    "del cvd_altt\n",
    "\n",
    "# Conte\n",
    "cvd_altt = pd.DataFrame()\n",
    "idx = 0\n",
    "for i_wave in C_waves:\n",
    "    task_dir = os.path.join(data_dir,C_wave_dir[idx]+ '_Conte/W'+ str(i_wave) + 'C_tasks','cvd_altt')    \n",
    "    \n",
    "    cvd_altt_tmp = process_cvd_altt(task_dir, i_wave)\n",
    "    cvd_altt = cvd_altt.append(cvd_altt_tmp)\n",
    "    idx += 1\n",
    "    \n",
    "cvd_altt.to_csv(os.path.join(out_dir,'ATT_C.csv'),index=False)\n",
    "del cvd_altt"
   ]
  },
  {
   "cell_type": "code",
   "execution_count": null,
   "metadata": {},
   "outputs": [],
   "source": []
  }
 ],
 "metadata": {
  "kernelspec": {
   "display_name": "Python 3 (ipykernel)",
   "language": "python",
   "name": "python3"
  },
  "language_info": {
   "codemirror_mode": {
    "name": "ipython",
    "version": 3
   },
   "file_extension": ".py",
   "mimetype": "text/x-python",
   "name": "python",
   "nbconvert_exporter": "python",
   "pygments_lexer": "ipython3",
   "version": "3.9.12"
  }
 },
 "nbformat": 4,
 "nbformat_minor": 4
}
